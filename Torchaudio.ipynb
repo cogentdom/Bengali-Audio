{
 "cells": [
  {
   "cell_type": "code",
   "execution_count": 4,
   "id": "622e12cd",
   "metadata": {},
   "outputs": [],
   "source": [
    "import torch\n",
    "import torchaudio\n",
    "import os\n",
    "import numpy as np\n",
    "import pandas as pd\n",
    "import glob"
   ]
  },
  {
   "cell_type": "code",
   "execution_count": 6,
   "id": "5c01baf1",
   "metadata": {},
   "outputs": [],
   "source": [
    "path = \"/home/cogentdom/data/train_files/\"\n",
    "files = glob.glob(os.path.join(path,\"*.mp3\"))\n",
    "train = pd.read_csv('data/train.csv')"
   ]
  },
  {
   "cell_type": "code",
   "execution_count": 8,
   "id": "6a6c7f36",
   "metadata": {},
   "outputs": [
    {
     "data": {
      "text/plain": [
       "(sox_signalinfo_t {\n",
       "   rate-> 32000\n",
       "   channels-> 1\n",
       "   precision-> 16\n",
       "   length-> 84096\n",
       "   mult-> 0\n",
       " },\n",
       " sox_encodinginfo_t {\n",
       "   encoding-> 22\n",
       "   bits_per_sample-> 0\n",
       "   compression-> inf\n",
       "   reverse_bytes-> 0\n",
       "   reverse_nibbles-> 0\n",
       "   reverse_bits-> 0\n",
       "   opposite_endian-> 0\n",
       " })"
      ]
     },
     "execution_count": 8,
     "metadata": {},
     "output_type": "execute_result"
    }
   ],
   "source": [
    "torchaudio.info(files[0])"
   ]
  },
  {
   "cell_type": "code",
   "execution_count": 10,
   "id": "3ac54ba6",
   "metadata": {},
   "outputs": [
    {
     "data": {
      "text/plain": [
       "(torch.Size([1, 82944]), 32000)"
      ]
     },
     "execution_count": 10,
     "metadata": {},
     "output_type": "execute_result"
    }
   ],
   "source": [
    "waveform, sample_rate = torchaudio.load(files[0])\n",
    "waveform.shape, sample_rate"
   ]
  },
  {
   "cell_type": "code",
   "execution_count": null,
   "id": "2ed1a138",
   "metadata": {},
   "outputs": [],
   "source": []
  }
 ],
 "metadata": {
  "kernelspec": {
   "display_name": "Python 3",
   "language": "python",
   "name": "python3"
  },
  "language_info": {
   "codemirror_mode": {
    "name": "ipython",
    "version": 3
   },
   "file_extension": ".py",
   "mimetype": "text/x-python",
   "name": "python",
   "nbconvert_exporter": "python",
   "pygments_lexer": "ipython3",
   "version": "3.7.12"
  }
 },
 "nbformat": 4,
 "nbformat_minor": 5
}
